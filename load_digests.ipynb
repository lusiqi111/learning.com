{
 "cells": [
  {
   "cell_type": "code",
   "execution_count": null,
   "metadata": {},
   "outputs": [],
   "source": []
  },
  {
   "cell_type": "markdown",
   "metadata": {},
   "source": [
    "\n"
   ]
  },
  {
   "cell_type": "code",
   "execution_count": 8,
   "metadata": {},
   "outputs": [
    {
     "name": "stdout",
     "output_type": "stream",
     "text": [
      "Automatically created module for IPython interactive environment\n",
      "init\t\tNMI\thomo\tcompl\t\n",
      "k-means  \t0.580\t0.698\t0.634\t\n",
      "Affinity \t0.964\t0.425\t0.590\t\n",
      "MeanShift\t0.014\t0.281\t0.027\t\n",
      "Spectral \t0.014\t0.281\t0.027\t\n",
      "WH       \t0.239\t0.908\t0.378\t\n",
      "Agglomerative\t0.239\t0.908\t0.378\t\n",
      "DBSCAN   \t0.471\t0.639\t0.542\t\n",
      "Gaussian \t0.176\t0.370\t0.239\t\n"
     ]
    }
   ],
   "source": [
    "print(__doc__)\n",
    "from time import time\n",
    "import numpy as np\n",
    "import matplotlib.pyplot as plt\n",
    "from sklearn import metrics\n",
    "from sklearn.cluster import KMeans\n",
    "from sklearn.cluster import AffinityPropagation\n",
    "from sklearn.cluster import MeanShift\n",
    "from sklearn.cluster import SpectralClustering\n",
    "from sklearn.cluster import AgglomerativeClustering\n",
    "from sklearn.cluster import DBSCAN\n",
    "from sklearn import mixture\n",
    "from sklearn.mixture import GaussianMixture\n",
    "from sklearn.datasets import load_digits\n",
    "from sklearn.decomposition import PCA\n",
    "from sklearn.preprocessing import scale\n",
    "\n",
    "digits = load_digits()\n",
    "data = scale(digits.data)\n",
    "true= digits.target\n",
    "\n",
    "\n",
    "print('init\\t\\tNMI\\thomo\\tcompl\\t')\n",
    "\n",
    "\n",
    "def bench(name,true,pre):\n",
    "#     estimator.fit(data)\n",
    "    print('%-9s\\t%.3f\\t%.3f\\t%.3f\\t'\n",
    "          % (name, \n",
    "             metrics.homogeneity_score(true, pre),\n",
    "             metrics.completeness_score(true, pre),\n",
    "             metrics.normalized_mutual_info_score(true, pre,average_method='arithmetic') \n",
    "            ))\n",
    "km = KMeans().fit(data)\n",
    "pre= km.labels_\n",
    "bench('k-means', true, pre)\n",
    "\n",
    "af = AffinityPropagation(preference=-50).fit(data)\n",
    "pre= af.labels_\n",
    "bench('Affinity', true, pre)\n",
    "\n",
    "ms=MeanShift().fit(data)\n",
    "pre= ms.labels_\n",
    "bench('MeanShift',true, pre)\n",
    "\n",
    "sc = SpectralClustering(n_clusters=6, affinity='nearest_neighbors').fit(data)\n",
    "pre= ms.labels_\n",
    "bench('Spectral',true, pre)\n",
    "\n",
    "wh = AgglomerativeClustering(linkage=\"ward\").fit(data)\n",
    "pre= wh.labels_\n",
    "bench('WH',true,pre)\n",
    "\n",
    "ag = AgglomerativeClustering().fit(data)\n",
    "pre= ag.labels_\n",
    "bench('Agglomerative',true, pre)\n",
    "\n",
    "db = DBSCAN(eps=4, min_samples=8).fit(data)\n",
    "pre= db.labels_\n",
    "bench('DBSCAN',true, pre)\n",
    "\n",
    "pre = mixture.GaussianMixture(n_components=4).fit_predict(data)\n",
    "bench('Gaussian',true, pre)"
   ]
  },
  {
   "cell_type": "code",
   "execution_count": null,
   "metadata": {},
   "outputs": [],
   "source": []
  }
 ],
 "metadata": {
  "kernelspec": {
   "display_name": "Python 3",
   "language": "python",
   "name": "python3"
  },
  "language_info": {
   "codemirror_mode": {
    "name": "ipython",
    "version": 3
   },
   "file_extension": ".py",
   "mimetype": "text/x-python",
   "name": "python",
   "nbconvert_exporter": "python",
   "pygments_lexer": "ipython3",
   "version": "3.7.3"
  }
 },
 "nbformat": 4,
 "nbformat_minor": 1
}
