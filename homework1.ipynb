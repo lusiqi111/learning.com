{
 "cells": [
  {
   "cell_type": "code",
   "execution_count": null,
   "metadata": {},
   "outputs": [],
   "source": []
  },
  {
   "cell_type": "markdown",
   "metadata": {},
   "source": [
    "\n"
   ]
  },
  {
   "cell_type": "code",
   "execution_count": 45,
   "metadata": {},
   "outputs": [
    {
     "name": "stdout",
     "output_type": "stream",
     "text": [
      "Automatically created module for IPython interactive environment\n",
      "init\t\tNMI\thomo\tcompl\t\n",
      "k-means  \t0.503\t0.607\t0.550\t\n",
      "Affinity \t0.964\t0.425\t0.590\t\n",
      "MeanShift\t0.014\t0.281\t0.027\t\n"
     ]
    }
   ],
   "source": [
    "print(__doc__)\n",
    "from time import time\n",
    "import numpy as np\n",
    "import matplotlib.pyplot as plt\n",
    "from sklearn import metrics\n",
    "from sklearn.cluster import KMeans\n",
    "from sklearn.cluster import AffinityPropagation\n",
    "from sklearn.cluster import MeanShift\n",
    "from sklearn.cluster import SpectralClustering\n",
    "from sklearn.cluster import AgglomerativeClustering\n",
    "from sklearn.cluster import DBSCAN\n",
    "from sklearn.mixture import GaussianMixture\n",
    "from sklearn.datasets import load_digits\n",
    "from sklearn.decomposition import PCA\n",
    "from sklearn.preprocessing import scale\n",
    "\n",
    "digits = load_digits()\n",
    "data = scale(digits.data)\n",
    "labels_true= digits.target\n",
    "\n",
    "\n",
    "print('init\\t\\tNMI\\thomo\\tcompl\\t')\n",
    "\n",
    "\n",
    "def bench(name,labels_true,labels_pre):\n",
    "#     estimator.fit(data)\n",
    "    print('%-9s\\t%.3f\\t%.3f\\t%.3f\\t'\n",
    "          % (name, \n",
    "             metrics.homogeneity_score(labels_true, labels_pre),\n",
    "             metrics.completeness_score(labels_true, labels_pre),\n",
    "             metrics.normalized_mutual_info_score(labels_true, labels_pre,average_method='arithmetic') \n",
    "            ))\n",
    "km = KMeans().fit(data)\n",
    "labels_pre= km.labels_\n",
    "bench('k-means', labels_true, labels_pre)\n",
    "\n",
    "af = AffinityPropagation(preference=-50).fit(data)\n",
    "labels_pre= af.labels_\n",
    "bench('Affinity', labels_true, labels_pre)\n",
    "\n",
    "ms=MeanShift().fit(data)\n",
    "labels_pre= ms.labels_\n",
    "bench('MeanShift',labels_true, labels_pre)"
   ]
  },
  {
   "cell_type": "code",
   "execution_count": null,
   "metadata": {},
   "outputs": [],
   "source": []
  }
 ],
 "metadata": {
  "kernelspec": {
   "display_name": "Python 3",
   "language": "python",
   "name": "python3"
  },
  "language_info": {
   "codemirror_mode": {
    "name": "ipython",
    "version": 3
   },
   "file_extension": ".py",
   "mimetype": "text/x-python",
   "name": "python",
   "nbconvert_exporter": "python",
   "pygments_lexer": "ipython3",
   "version": "3.7.3"
  }
 },
 "nbformat": 4,
 "nbformat_minor": 1
}
