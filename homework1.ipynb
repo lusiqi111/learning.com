{
 "cells": [
  {
   "cell_type": "code",
   "execution_count": null,
   "metadata": {},
   "outputs": [],
   "source": []
  },
  {
   "cell_type": "markdown",
   "metadata": {},
   "source": [
    "\n"
   ]
  },
  {
   "cell_type": "code",
   "execution_count": 2,
   "metadata": {},
   "outputs": [
    {
     "name": "stdout",
     "output_type": "stream",
     "text": [
      "Automatically created module for IPython interactive environment\n",
      "init\t\tNMI\thomo\tcompl\t\n",
      "k-means  \t0.603\t0.717\t0.655\t\n",
      "Affinity \t0.964\t0.425\t0.590\t\n",
      "MeanShift\t0.014\t0.281\t0.027\t\n",
      "Spectral \t0.014\t0.281\t0.027\t\n",
      "Agglomerative\t0.239\t0.908\t0.378\t\n",
      "DBSCAN   \t0.471\t0.639\t0.542\t\n"
     ]
    },
    {
     "ename": "AttributeError",
     "evalue": "'GaussianMixture' object has no attribute 'labels_'",
     "output_type": "error",
     "traceback": [
      "\u001b[1;31m---------------------------------------------------------------------------\u001b[0m",
      "\u001b[1;31mAttributeError\u001b[0m                            Traceback (most recent call last)",
      "\u001b[1;32m<ipython-input-2-cb943744c557>\u001b[0m in \u001b[0;36m<module>\u001b[1;34m\u001b[0m\n\u001b[0;32m     56\u001b[0m \u001b[1;33m\u001b[0m\u001b[0m\n\u001b[0;32m     57\u001b[0m \u001b[0mgm\u001b[0m \u001b[1;33m=\u001b[0m \u001b[0mGaussianMixture\u001b[0m\u001b[1;33m(\u001b[0m\u001b[1;33m)\u001b[0m\u001b[1;33m.\u001b[0m\u001b[0mfit\u001b[0m\u001b[1;33m(\u001b[0m\u001b[0mdata\u001b[0m\u001b[1;33m)\u001b[0m\u001b[1;33m\u001b[0m\u001b[1;33m\u001b[0m\u001b[0m\n\u001b[1;32m---> 58\u001b[1;33m \u001b[0mlabels_pre\u001b[0m\u001b[1;33m=\u001b[0m \u001b[0mgm\u001b[0m\u001b[1;33m.\u001b[0m\u001b[0mlabels_\u001b[0m\u001b[1;33m\u001b[0m\u001b[1;33m\u001b[0m\u001b[0m\n\u001b[0m\u001b[0;32m     59\u001b[0m \u001b[0mbench\u001b[0m\u001b[1;33m(\u001b[0m\u001b[1;34m'Gaussian'\u001b[0m\u001b[1;33m,\u001b[0m\u001b[0mlabels_true\u001b[0m\u001b[1;33m,\u001b[0m \u001b[0mlabels_pre\u001b[0m\u001b[1;33m)\u001b[0m\u001b[1;33m\u001b[0m\u001b[1;33m\u001b[0m\u001b[0m\n",
      "\u001b[1;31mAttributeError\u001b[0m: 'GaussianMixture' object has no attribute 'labels_'"
     ]
    }
   ],
   "source": [
    "print(__doc__)\n",
    "from time import time\n",
    "import numpy as np\n",
    "import matplotlib.pyplot as plt\n",
    "from sklearn import metrics\n",
    "from sklearn.cluster import KMeans\n",
    "from sklearn.cluster import AffinityPropagation\n",
    "from sklearn.cluster import MeanShift\n",
    "from sklearn.cluster import SpectralClustering\n",
    "from sklearn.cluster import AgglomerativeClustering\n",
    "from sklearn.cluster import DBSCAN\n",
    "from sklearn.mixture import GaussianMixture\n",
    "from sklearn.datasets import load_digits\n",
    "from sklearn.decomposition import PCA\n",
    "from sklearn.preprocessing import scale\n",
    "\n",
    "digits = load_digits()\n",
    "data = scale(digits.data)\n",
    "labels_true= digits.target\n",
    "\n",
    "\n",
    "print('init\\t\\tNMI\\thomo\\tcompl\\t')\n",
    "\n",
    "\n",
    "def bench(name,labels_true,labels_pre):\n",
    "#     estimator.fit(data)\n",
    "    print('%-9s\\t%.3f\\t%.3f\\t%.3f\\t'\n",
    "          % (name, \n",
    "             metrics.homogeneity_score(labels_true, labels_pre),\n",
    "             metrics.completeness_score(labels_true, labels_pre),\n",
    "             metrics.normalized_mutual_info_score(labels_true, labels_pre,average_method='arithmetic') \n",
    "            ))\n",
    "km = KMeans().fit(data)\n",
    "labels_pre= km.labels_\n",
    "bench('k-means', labels_true, labels_pre)\n",
    "\n",
    "af = AffinityPropagation(preference=-50).fit(data)\n",
    "labels_pre= af.labels_\n",
    "bench('Affinity', labels_true, labels_pre)\n",
    "\n",
    "ms=MeanShift().fit(data)\n",
    "labels_pre= ms.labels_\n",
    "bench('MeanShift',labels_true, labels_pre)\n",
    "\n",
    "sc = SpectralClustering(n_clusters=6, affinity='nearest_neighbors').fit(data)\n",
    "labels_pre= ms.labels_\n",
    "bench('Spectral',labels_true, labels_pre)\n",
    "\n",
    "ag = AgglomerativeClustering().fit(data)\n",
    "labels_pre= ag.labels_\n",
    "bench('Agglomerative',labels_true, labels_pre)\n",
    "\n",
    "db = DBSCAN(eps=4, min_samples=8).fit(data)\n",
    "labels_pre= db.labels_\n",
    "bench('DBSCAN',labels_true, labels_pre)\n",
    "\n",
    "gm = GaussianMixture().fit(data)\n",
    "labels_pre= gm.labels_\n",
    "bench('Gaussian',labels_true, labels_pre)"
   ]
  },
  {
   "cell_type": "code",
   "execution_count": null,
   "metadata": {},
   "outputs": [],
   "source": []
  }
 ],
 "metadata": {
  "kernelspec": {
   "display_name": "Python 3",
   "language": "python",
   "name": "python3"
  },
  "language_info": {
   "codemirror_mode": {
    "name": "ipython",
    "version": 3
   },
   "file_extension": ".py",
   "mimetype": "text/x-python",
   "name": "python",
   "nbconvert_exporter": "python",
   "pygments_lexer": "ipython3",
   "version": "3.7.3"
  }
 },
 "nbformat": 4,
 "nbformat_minor": 1
}
